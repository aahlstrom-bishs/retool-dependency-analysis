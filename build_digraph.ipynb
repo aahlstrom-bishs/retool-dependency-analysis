{
 "cells": [
  {
   "cell_type": "code",
   "execution_count": 1,
   "metadata": {},
   "outputs": [],
   "source": [
    "import json\n",
    "import re"
   ]
  },
  {
   "cell_type": "code",
   "execution_count": 2,
   "metadata": {},
   "outputs": [],
   "source": [
    "with open(\"intermediate_outputs/formatted_appState_w_dependencies.json\", 'r') as f:\n",
    "    data = json.load(f)"
   ]
  },
  {
   "cell_type": "markdown",
   "metadata": {},
   "source": [
    "# build graph using dot notation"
   ]
  },
  {
   "cell_type": "code",
   "execution_count": 3,
   "metadata": {},
   "outputs": [],
   "source": [
    "def build_digraph(keep: list[str]):\n",
    "    global data;\n",
    "    node_map = {key: index for index, key in enumerate(keep)}\n",
    "    colors_map = {\n",
    "        \"widget\": [\"gainsboro\", \"black\"],\n",
    "        \"datasource\": [\"#BBD686\", \"black\"],\n",
    "        \"function\": [\"#F2B5D4\", \"black\"],\n",
    "        \"frame\": [\"gold2\", \"black\"],\n",
    "    }\n",
    "\n",
    "    dot_data = \"digraph G {\\n\"\\\n",
    "    \"  node [shape=record, style=filled]\\n\"\\\n",
    "    \"  edge [color=black]\\n\"\n",
    "    for name, index in node_map.items():\n",
    "        fill_color = \"yellow\"\n",
    "        text_color = \"black\"\n",
    "        if name in data.keys() and \"type\" in data[name].keys():\n",
    "            [fill_color, text_color] = colors_map.get(data[name].get(\"type\"))\n",
    "            if len([d for d in (data[name][\"component_relations\"].get(\"dependants\") or []) if d[\"type\"] != \"widget\"]) == 0:\n",
    "                text_color = \"white\"\n",
    "            if data[name].get(\"type\") == \"widget\":\n",
    "                relations = data[name][\"component_relations\"]\n",
    "                if len(relations.get(\"dependants\") or []) == 0:\n",
    "                    fill_color = \"black\"\n",
    "                    text_color = \"white\"\n",
    "            name = f\"{{{name}|{{{data[name].get('type')}|{data[name].get('subtype')}}}}}\"\n",
    "        dot_data += f'  {index} [label=\"{name}\" fillcolor=\"{fill_color}\" fontcolor=\"{text_color}\"];\\n'\n",
    "    dot_data += \"\\n\"\n",
    "\n",
    "\n",
    "    method_map = {\n",
    "        \"update\": {\n",
    "            \"label\": \"U\",\n",
    "            \"color\": \"deepskyblue\",\n",
    "            \"penwidth\": \"1.5\"\n",
    "        },\n",
    "        \"trigger\": {\n",
    "            \"label\": \"T\",\n",
    "            \"color\": \"red\",\n",
    "            \"penwidth\": \"3\"\n",
    "        },\n",
    "    }\n",
    "    def get_method_styles(method):\n",
    "        color = \"gray50\"\n",
    "        penwidth = \"1\"\n",
    "        if method in method_map:\n",
    "            color = method_map.get(method)[\"color\"]\n",
    "            penwidth = method_map.get(method)[\"penwidth\"]\n",
    "\n",
    "        return f'['\\\n",
    "            f' color=\"{color}\"'\\\n",
    "            f' penwidth=\"{penwidth}\"'\\\n",
    "            f']'\n",
    "\n",
    "    links = set([\n",
    "        f'{node_map.get(d[\"triggered_by\"])} -> {node_map.get(d[\"pluginId\"])} {get_method_styles(d[\"method\"])}'\n",
    "        for value \n",
    "        in data.values() \n",
    "        for d \n",
    "        in (value[\"component_relations\"].get(\"dependants\") or [])\n",
    "        if d[\"pluginId\"] in node_map and d[\"triggered_by\"] in node_map\n",
    "    ])\n",
    "    dot_data += \"\\n\".join(links)\n",
    "    dot_data += \"\\n}\"\n",
    "\n",
    "    return dot_data"
   ]
  },
  {
   "cell_type": "code",
   "execution_count": 4,
   "metadata": {},
   "outputs": [],
   "source": [
    "keep_a = [ \n",
    "    key \n",
    "    for key \n",
    "    in data.keys() \n",
    "    if \"dependants\" in data[key][\"component_relations\"] \n",
    "        and len(data[key][\"component_relations\"][\"dependants\"]) > 0  \n",
    "]\n",
    "keep_b = [ \n",
    "    id\n",
    "    for value \n",
    "    in data.values() \n",
    "    for id\n",
    "    in [\n",
    "        dependant[\"pluginId\"]\n",
    "        for dependant\n",
    "        in (value[\"component_relations\"].get(\"dependants\") or [])\n",
    "    ]\n",
    "]"
   ]
  },
  {
   "cell_type": "code",
   "execution_count": 5,
   "metadata": {},
   "outputs": [],
   "source": [
    "keep_all = [\n",
    "    name \n",
    "    for name \n",
    "    in set(keep_a + keep_b) \n",
    "    if not not name\n",
    "    and name in data\n",
    "    and data[name].get(\"type\") != \"setting\"\n",
    "    # and not (\n",
    "    #     data[name].get(\"type\") == \"widget\"\n",
    "    #     and len((data[name][\"component_relations\"].get(\"dependants\") or [])) == 0\n",
    "    # )\n",
    "]\n",
    "\n",
    "with open(\"outputs/full_dependency_graph.dot\", 'w') as f:\n",
    "    f.write(build_digraph(keep_all))"
   ]
  },
  {
   "cell_type": "code",
   "execution_count": 6,
   "metadata": {},
   "outputs": [],
   "source": [
    "keep_queries = [\n",
    "    name \n",
    "    for name \n",
    "    in set(keep_a + keep_b) \n",
    "    if not not name\n",
    "    and name in data\n",
    "    and data[name].get(\"type\") != \"setting\"\n",
    "    and data[name].get(\"type\") != \"widget\"\n",
    "    # and not (\n",
    "    #     data[name].get(\"type\") == \"widget\"\n",
    "    #     and len((data[name][\"component_relations\"].get(\"dependants\") or [])) == 0\n",
    "    # )\n",
    "]\n",
    "\n",
    "with open(\"outputs/queries_only_dependency_graph.dot\", 'w') as f:\n",
    "    f.write(build_digraph(keep_queries))"
   ]
  },
  {
   "cell_type": "code",
   "execution_count": 7,
   "metadata": {},
   "outputs": [],
   "source": [
    "keep_queries_except_employee = [\n",
    "    name\n",
    "    for name\n",
    "    in keep_queries\n",
    "    if name != 'employee'\n",
    "]\n",
    "\n",
    "with open(\"outputs/minus_employee.dot\", 'w') as f:\n",
    "    f.write(build_digraph(keep_queries_except_employee))"
   ]
  }
 ],
 "metadata": {
  "kernelspec": {
   "display_name": "Python 3",
   "language": "python",
   "name": "python3"
  },
  "language_info": {
   "codemirror_mode": {
    "name": "ipython",
    "version": 3
   },
   "file_extension": ".py",
   "mimetype": "text/x-python",
   "name": "python",
   "nbconvert_exporter": "python",
   "pygments_lexer": "ipython3",
   "version": "3.11.3"
  },
  "orig_nbformat": 4
 },
 "nbformat": 4,
 "nbformat_minor": 2
}
