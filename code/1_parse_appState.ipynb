{
 "cells": [
  {
   "cell_type": "code",
   "execution_count": null,
   "metadata": {},
   "outputs": [],
   "source": [
    "import json\n",
    "import re\n",
    "\n",
    "import sys\n",
    "sys.path.append('lib')\n",
    "from cleaning_helpers import remove_null_items_recursive"
   ]
  },
  {
   "cell_type": "code",
   "execution_count": null,
   "metadata": {},
   "outputs": [],
   "source": [
    "raw_data = {}\n",
    "# parse config file at \"../config.json\" for input_file_path\n",
    "with open('../config.json') as config_file:\n",
    "    config = json.load(config_file)\n",
    "    input_file_path = ('../' + config.get('input_file_path')).replace('//', '/')\n",
    "\n",
    "print(\"input_file_path: \", input_file_path)\n",
    "with open(input_file_path, 'r') as f:\n",
    "    raw_data = json.load(f)\n",
    "\n",
    "raw_app_template = raw_data.get('page', {}) \\\n",
    "    .get('changesRecord', [])[0] \\\n",
    "    .get('payload', {}) \\\n",
    "    .get('migratedAppTemplate', {})\n",
    "\n",
    "folders = raw_app_template.get('folders', [])\n",
    "raw_data = raw_app_template.get('plugins', {})"
   ]
  },
  {
   "cell_type": "markdown",
   "metadata": {},
   "source": [
    "## define string search functions for finding relations between components"
   ]
  },
  {
   "cell_type": "code",
   "execution_count": null,
   "metadata": {},
   "outputs": [],
   "source": [
    "\n",
    "# search string for instances like `my_component2.trigger` etc...\n",
    "g_trigger_regex = r\"[a-zA-Z_0-9]+\\.trigger\"\n",
    "def get_trigger_snippets(s: str):\n",
    "    return [snippet.strip() for snippet in re.findall(g_trigger_regex, s)]\n",
    "\n",
    "# my_component.trigger is a dependant; not a dependency\n",
    "def filter_triggers_from_code_snippets(snippets: list[str]):\n",
    "    # replace all instances of regex in string with empty string\n",
    "    return [re.sub(g_trigger_regex, \"\", snippet) for snippet in snippets]\n",
    "\n",
    "# search string for instances like {{component.data.etc...}}\n",
    "def get_dependency_snippets(s: str):\n",
    "    code_pattern = r\"\\{\\{([^{}]*)\\}\\}\"\n",
    "    return filter_triggers_from_code_snippets(\n",
    "        [snippet.strip() for snippet in re.findall(code_pattern, s)]\n",
    "    )"
   ]
  },
  {
   "cell_type": "markdown",
   "metadata": {},
   "source": [
    "#### test"
   ]
  },
  {
   "cell_type": "code",
   "execution_count": null,
   "metadata": {},
   "outputs": [],
   "source": [
    "# test filter_triggers_from_code_snippets\n",
    "test = [\"test.trigger('test')\", \"test2.trigger('test_2')\", \"test3.trigger('test_3') test3.trigger('test_3') test4.trigger('test_4')\"]\n",
    "result = filter_triggers_from_code_snippets(test)\n",
    "print(result)\n",
    "assert result == [\"('test')\", \"('test_2')\", \"('test_3') ('test_3') ('test_4')\"]"
   ]
  },
  {
   "cell_type": "markdown",
   "metadata": {},
   "source": [
    "# Parse Data"
   ]
  },
  {
   "cell_type": "code",
   "execution_count": null,
   "metadata": {},
   "outputs": [],
   "source": [
    "parsed_data = {};\n",
    "for key, _value in raw_data.items():\n",
    "    value = remove_null_items_recursive(_value)\n",
    "    dependency_snippets = get_dependency_snippets(json.dumps(value))\n",
    "    trigger_snippets = get_trigger_snippets(json.dumps(value))\n",
    "\n",
    "    parsed_data[key] = {\n",
    "        'id': key,\n",
    "        'type': value.get('type'),\n",
    "        'subtype': value.get('subtype'),\n",
    "        'parent': value.get('position2', {}).get('container') if value.get('position2') else None,\n",
    "        'children': [id for id, v in raw_data.items() if v.get('position2') and v.get('position2', {}).get('container') == key],\n",
    "        'folder': value.get('folder'),\n",
    "        \n",
    "        'value': value.get('template', {}).get('value'),\n",
    "        'funcBody': value.get('template', {}).get('funcBody'),\n",
    "        'query': value.get('template', {}).get('query'),\n",
    "        'transformer': value.get('template', {}).get('transformer') if value.get('template', {}).get('enableTransformer', False) else None,\n",
    "        'errorTransformer': value.get('template', {}).get('errorTransformer') if value.get('template', {}).get('enableErrorTransformer', False) else None,\n",
    "        \n",
    "        'runWhenPageLoads': value.get('template', {}).get('runWhenPageLoads'),\n",
    "        'runWhenModelUpdates': value.get('template', {}).get('runWhenModelUpdates'),\n",
    "        'events': value.get('template', {}).get('events', []),\n",
    "        \n",
    "        'dependency_snippets': dependency_snippets,\n",
    "        'trigger_snippets': trigger_snippets,\n",
    "\n",
    "        'dependencies': [key for key in raw_data.keys() if f\"{key}.\" in \" | \".join(dependency_snippets)],\n",
    "        'triggers': [key for key in raw_data.keys() if key in [trigger.replace(\".trigger\", \"\") for trigger in trigger_snippets]]\n",
    "    }\n",
    "\n",
    "parsed_data = remove_null_items_recursive(parsed_data)"
   ]
  },
  {
   "cell_type": "code",
   "execution_count": null,
   "metadata": {},
   "outputs": [],
   "source": [
    "with open('intermediate_outputs/parsed_data.json', 'w') as f:\n",
    "    json.dump(parsed_data, f, indent=4)"
   ]
  },
  {
   "cell_type": "code",
   "execution_count": null,
   "metadata": {},
   "outputs": [],
   "source": []
  }
 ],
 "metadata": {
  "kernelspec": {
   "display_name": "Python 3",
   "language": "python",
   "name": "python3"
  },
  "language_info": {
   "codemirror_mode": {
    "name": "ipython",
    "version": 3
   },
   "file_extension": ".py",
   "mimetype": "text/x-python",
   "name": "python",
   "nbconvert_exporter": "python",
   "pygments_lexer": "ipython3",
   "version": "3.11.3"
  },
  "orig_nbformat": 4
 },
 "nbformat": 4,
 "nbformat_minor": 2
}
