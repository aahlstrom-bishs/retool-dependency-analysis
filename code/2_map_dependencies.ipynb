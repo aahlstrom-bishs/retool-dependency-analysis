{
 "cells": [
  {
   "cell_type": "code",
   "execution_count": null,
   "metadata": {},
   "outputs": [],
   "source": [
    "import json\n",
    "import pandas as pd\n",
    "import re\n",
    "\n",
    "import sys\n",
    "sys.path.append('lib')\n",
    "from cleaning_helpers import remove_null_items_recursive"
   ]
  },
  {
   "cell_type": "markdown",
   "metadata": {},
   "source": [
    "### pull data"
   ]
  },
  {
   "cell_type": "code",
   "execution_count": null,
   "metadata": {},
   "outputs": [],
   "source": [
    "data = {}\n",
    "with open('intermediate_outputs/parsed_data.json', 'r') as f:\n",
    "    data = json.load(f)"
   ]
  },
  {
   "cell_type": "code",
   "execution_count": null,
   "metadata": {},
   "outputs": [],
   "source": [
    "df = pd.DataFrame(data.values())\n",
    "df.head() "
   ]
  },
  {
   "cell_type": "code",
   "execution_count": null,
   "metadata": {},
   "outputs": [],
   "source": [
    "with open(\"debug_files/debug_raw_component_relations.json\", \"w\") as f:\n",
    "    json.dump(remove_null_items_recursive({\n",
    "        k: { \n",
    "            'dependencies': v.get('dependencies'),\n",
    "            'triggers': v.get('triggers'), \n",
    "            'events': v.get('events') \n",
    "        } \n",
    "        for k,v \n",
    "        in data.items()\n",
    "    }), f, indent=2 * \" \")"
   ]
  },
  {
   "cell_type": "markdown",
   "metadata": {},
   "source": [
    "#### test"
   ]
  },
  {
   "cell_type": "markdown",
   "metadata": {},
   "source": [
    "### define some variables for use below"
   ]
  },
  {
   "cell_type": "code",
   "execution_count": null,
   "metadata": {},
   "outputs": [],
   "source": [
    "code_snippets = {\n",
    "    key: \" | \".join(filter_triggers_from_code_snippets(value[\"component_relations\"][\"dependency_code_snippets\"]))\n",
    "    for key, value \n",
    "    in data.items() \n",
    "    if len(value[\"component_relations\"][\"dependency_code_snippets\"]) > 0\n",
    "}\n",
    "\n",
    "triggers = {\n",
    "    key: {\n",
    "        trigger_key: {\n",
    "            \"event\": \"code_trigger\",\n",
    "            \"type\": data.get(trigger_key, {}).get(\"type\"),\n",
    "            \"method\": \"trigger\",\n",
    "            \"pluginId\": trigger_key\n",
    "        }\n",
    "        for trigger_key\n",
    "        in set([\n",
    "            re.sub(\".trigger\", \"\", trigger_string)\n",
    "            for trigger_string\n",
    "            in value[\"component_relations\"][\"trigger_code_snippets\"]\n",
    "        ])\n",
    "    }\n",
    "    for key, value \n",
    "    in data.items() \n",
    "    if len(value[\"component_relations\"][\"trigger_code_snippets\"]) > 0\n",
    "}"
   ]
  },
  {
   "cell_type": "markdown",
   "metadata": {},
   "source": [
    "### split events into triggers and non-triggers"
   ]
  },
  {
   "cell_type": "code",
   "execution_count": null,
   "metadata": {},
   "outputs": [],
   "source": [
    "non_trigger_events = {}\n",
    "\n",
    "for key, value in data.items():\n",
    "    for event in value.get(\"events\", []):\n",
    "        event_key = event.get(\"pluginId\")\n",
    "        if (event_key != None and event_key != \"\"):\n",
    "            if event.get(\"method\") == \"trigger\":\n",
    "                if not key in triggers:\n",
    "                    triggers[key] = {}\n",
    "                triggers[key][event_key] = event\n",
    "            else:\n",
    "                if not key in non_trigger_events:\n",
    "                    non_trigger_events[key] = {}\n",
    "                non_trigger_events[key][event_key] = event"
   ]
  },
  {
   "cell_type": "code",
   "execution_count": null,
   "metadata": {},
   "outputs": [],
   "source": [
    "with open(\"debug_files/debug_triggers.json\", 'w') as f:\n",
    "    json.dump(triggers, f, indent=2 * \" \")"
   ]
  },
  {
   "cell_type": "markdown",
   "metadata": {},
   "source": [
    "##### get dependency list -- search code_snippets for component-name + '.'"
   ]
  },
  {
   "cell_type": "code",
   "execution_count": null,
   "metadata": {},
   "outputs": [],
   "source": [
    "dependencies = {\n",
    "    parent_key: [\n",
    "        dependent_key\n",
    "        for dependent_key\n",
    "        in data.keys()\n",
    "        if f\"{dependent_key}.\" in snippets\n",
    "    ] \n",
    "    for parent_key, snippets \n",
    "    in code_snippets.items()\n",
    "}\n",
    "\n",
    "for key, value in dependencies.items():\n",
    "    data[key][\"component_relations\"][\"dependencies\"] = value\n",
    "remove_null_items_recursive(dependencies)"
   ]
  },
  {
   "cell_type": "markdown",
   "metadata": {},
   "source": [
    "### precompute reverse relations : \n",
    "#### grab a list of all components that depend on a given component\n",
    "- e.g this component updates this list of components"
   ]
  },
  {
   "cell_type": "code",
   "execution_count": null,
   "metadata": {},
   "outputs": [],
   "source": [
    "# reverse dependencies map into dependants map\n",
    "for parent in dependencies.keys():\n",
    "    if not \"component_relations\" in data[parent]:\n",
    "        data[parent][\"component_relations\"] = {}\n",
    "    if not \"dependants\" in data[parent][\"component_relations\"]:\n",
    "        data[parent][\"component_relations\"][\"dependants\"] = []\n",
    "    for dependant, dependency_components in dependencies.items():\n",
    "        # if parent is a dependency of dependant\n",
    "        if parent in dependency_components:\n",
    "            data[parent][\"component_relations\"][\"dependants\"].append({\n",
    "                \"event\": \"on_value_change\",\n",
    "                \"type\": data[dependant].get(\"type\"),\n",
    "                \"method\": \"update\",\n",
    "                \"pluginId\": dependant,\n",
    "                \"triggered_by\": parent,\n",
    "                \"derived_event\": True\n",
    "            })"
   ]
  },
  {
   "cell_type": "code",
   "execution_count": null,
   "metadata": {},
   "outputs": [],
   "source": [
    "def add_events_to_dependants_list(events_map: dict):\n",
    "    global data;\n",
    "    for parent, events in events_map.items():\n",
    "        if not \"component_relations\" in data[parent]:\n",
    "            data[parent][\"component_relations\"] = {}\n",
    "        if not \"dependants\" in data[parent][\"component_relations\"]:\n",
    "            data[parent][\"component_relations\"][\"dependants\"] = []\n",
    "            \n",
    "        for event in events.values():\n",
    "            event[\"triggered_by\"] = parent\n",
    "            data[parent][\"component_relations\"][\"dependants\"].append(event)"
   ]
  },
  {
   "cell_type": "code",
   "execution_count": null,
   "metadata": {},
   "outputs": [],
   "source": [
    "add_events_to_dependants_list(triggers)\n",
    "add_events_to_dependants_list(non_trigger_events)"
   ]
  },
  {
   "cell_type": "code",
   "execution_count": null,
   "metadata": {},
   "outputs": [],
   "source": [
    "with open(\"debug_files/debug_dependencies.json\", \"w\") as f:\n",
    "    json.dump({\n",
    "        k: {\n",
    "            'component_relations': v.get('component_relations'),\n",
    "            'events': v.get('events')\n",
    "        }\n",
    "        for k,v \n",
    "        in data.items()\n",
    "    }, f, indent=2 * \" \")"
   ]
  },
  {
   "cell_type": "markdown",
   "metadata": {},
   "source": [
    "#### intermediate output files"
   ]
  },
  {
   "cell_type": "code",
   "execution_count": null,
   "metadata": {},
   "outputs": [],
   "source": [
    "dependency_graph = {key: value[\"component_relations\"] for key, value in data.items()}\n",
    "with open(\"debug_files/filtered_dependency_graph.json\", \"w\") as f:\n",
    "    json.dump(remove_null_items_recursive(dependency_graph), f, indent=2 * \" \")"
   ]
  },
  {
   "cell_type": "code",
   "execution_count": null,
   "metadata": {},
   "outputs": [],
   "source": [
    "with open(\"intermediate_outputs/dependency_mapped_data.json\", 'w') as f:\n",
    "    f.write(json.dumps(data, indent=2 * \" \"))"
   ]
  },
  {
   "cell_type": "code",
   "execution_count": null,
   "metadata": {},
   "outputs": [],
   "source": []
  }
 ],
 "metadata": {
  "kernelspec": {
   "display_name": "Python 3",
   "language": "python",
   "name": "python3"
  },
  "language_info": {
   "codemirror_mode": {
    "name": "ipython",
    "version": 3
   },
   "file_extension": ".py",
   "mimetype": "text/x-python",
   "name": "python",
   "nbconvert_exporter": "python",
   "pygments_lexer": "ipython3",
   "version": "0.0.0"
  },
  "orig_nbformat": 4
 },
 "nbformat": 4,
 "nbformat_minor": 2
}
