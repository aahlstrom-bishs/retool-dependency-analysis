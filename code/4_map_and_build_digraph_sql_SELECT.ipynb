{
 "cells": [
  {
   "cell_type": "code",
   "execution_count": null,
   "metadata": {},
   "outputs": [],
   "source": [
    "import json\n",
    "from queue import Queue"
   ]
  },
  {
   "cell_type": "code",
   "execution_count": null,
   "metadata": {},
   "outputs": [],
   "source": [
    "with open(\"intermediate_outputs/formatted_appState_w_dependencies.json\", \"r\") as f:\n",
    "    data = json.load(f)"
   ]
  },
  {
   "cell_type": "code",
   "execution_count": null,
   "metadata": {},
   "outputs": [],
   "source": [
    "queries = {}\n",
    "\n",
    "for entry in [\n",
    "    query \n",
    "    for query \n",
    "    in [{\"id\": item.get(\"id\"), \"query\": item[\"template\"].get(\"query\")} for item in data.values()]\n",
    "    if query[\"query\"] is not None and query[\"query\"] != \"\" and \"SELECT\" in query[\"query\"]\n",
    "]:\n",
    "    queries[entry[\"id\"]] = entry[\"query\"]\n",
    "\n",
    "with open(\"debug_files/queries.txt\", 'w') as f:\n",
    "    f.write(json.dumps(queries, indent=4))\n",
    "list(queries.values())"
   ]
  },
  {
   "cell_type": "code",
   "execution_count": null,
   "metadata": {},
   "outputs": [],
   "source": [
    "def flatten_list(nested_list):\n",
    "    return [\n",
    "        item \n",
    "        for sublist \n",
    "        in nested_list \n",
    "            for item \n",
    "            in (\n",
    "                flatten_list(sublist) \n",
    "                if isinstance(sublist, list) \n",
    "                else [sublist]\n",
    "            )\n",
    "    ]"
   ]
  },
  {
   "cell_type": "code",
   "execution_count": null,
   "metadata": {},
   "outputs": [],
   "source": [
    "def get_tables_from_sql_query(query: str):\n",
    "    # print(\"query: \", query)\n",
    "\n",
    "    if (query is None or query.strip() == \"\"):\n",
    "        # print(\"    --  NONE\")\n",
    "        return [None]\n",
    "\n",
    "    if (\"SELECT\" not in query or \"FROM\" not in query):\n",
    "        # print(\"    --  NO SELECT + FROM\")\n",
    "        return [query.split(\" \")[0].strip()]\n",
    "\n",
    "    ret =  flatten_list([\n",
    "        get_tables_from_sql_query(table.strip())\n",
    "        for joined \n",
    "        in \"FROM\".join(query.split(\"FROM\")[1:]).split(\"WHERE\")[0].strip().split(\",\") \n",
    "            for table \n",
    "            in joined.strip().split(\"JOIN\")\n",
    "    ])\n",
    "    # print(\"    -- \", ret)\n",
    "    return ret\n",
    "\n",
    "\n",
    "stripped = {}\n",
    "for (id, value) in [\n",
    "    (key,\n",
    "    {\n",
    "        \"columns\": [\n",
    "            column.strip() #.split(\"AS\")[0].strip()\n",
    "            for column\n",
    "            in value.split(\"SELECT\")[1].split(\"FROM\")[0].strip().split(\",\")\n",
    "        ],\n",
    "        \"tables\": get_tables_from_sql_query(value)\n",
    "    })\n",
    "    for key, value \n",
    "    in queries.items()\n",
    "]:\n",
    "    stripped[id] = value\n",
    "    tables_str = \", \".join(stripped[id][\"tables\"])\n",
    "    if \"{{\" in queries[id]:\n",
    "        stripped[id][\"dependencies\"] = [\n",
    "            \"{{\" + dependency.strip().split(\"}}\")[0].strip() + \"}}\"\n",
    "            for dependency\n",
    "            in queries[id].split(\"{{\")[1:]\n",
    "            if dependency.strip().split(\"}}\")[0].strip()\n",
    "            not in tables_str\n",
    "        ]\n",
    "    else:\n",
    "        stripped[id][\"dependencies\"] = []\n",
    "\n",
    "stripped"
   ]
  },
  {
   "cell_type": "markdown",
   "metadata": {},
   "source": [
    "# build DOT graph"
   ]
  },
  {
   "cell_type": "code",
   "execution_count": null,
   "metadata": {},
   "outputs": [],
   "source": [
    "# build dot digraph\n",
    "dot = \"\"\"digraph sql_SELECT_queries {\\n\n",
    "  node [shape=oval, style=filled]\n",
    "  edge [color=black]\n",
    "\"\"\"\n",
    "\n",
    "columns = list(set(flatten_list([value[\"columns\"] for value in stripped.values()])))\n",
    "tables = list(set(flatten_list([value[\"tables\"] for value in stripped.values()])))\n",
    "dependencies = list(set(flatten_list([value[\"dependencies\"] for value in stripped.values()])))\n",
    "\n",
    "nodes = {}\n",
    "\n",
    "for [index, name] in enumerate(list(set(\n",
    "    [id for id in stripped.keys()] + \n",
    "    columns + \\\n",
    "    tables + \\\n",
    "    dependencies\n",
    "))):\n",
    "    nodes[name] = index\n",
    "\n",
    "for (label, index) in nodes.items():\n",
    "    fillcolor = \"white\"\n",
    "    if label in stripped.keys():\n",
    "        fillcolor = \"#BBD686\"\n",
    "    elif label in dependencies:\n",
    "        fillcolor = \"#D6D6D6\"\n",
    "    elif label in tables:\n",
    "        fillcolor = \"orange\"\n",
    "    dot += f'\\t{index} [label=\"{label}\" fillcolor=\"{fillcolor}\"];\\n'\n",
    "\n",
    "for (id, value) in stripped.items():\n",
    "    dot += f'\\tsubgraph columns_{id} ' + '{\\n'\n",
    "    for column in value[\"columns\"]:\n",
    "        dot += f'\\t\\t{nodes.get(id)} -> {nodes.get(column)} [ color=\"gray70\" ];\\n'\n",
    "    dot += \"\\t}\\n\"\n",
    "    for table in value[\"tables\"]:\n",
    "        dot += f'\\t{nodes.get(table)} -> {nodes.get(id)} [ color=\"red\" ];\\n'\n",
    "    for dependency in value[\"dependencies\"]:\n",
    "        dot += f'\\t{nodes.get(dependency)} -> {nodes.get(id)};\\n'\n",
    "dot += \"}\"\n",
    "\n",
    "with open(\"outputs/sql_query_columns.dot\", 'w') as f:\n",
    "    f.write(dot)"
   ]
  },
  {
   "cell_type": "code",
   "execution_count": null,
   "metadata": {},
   "outputs": [],
   "source": [
    "# # maximum recursion depth exceeded.\n",
    "# # -- probably because of an infinite loop\n",
    "\n",
    "# def build_linked_path(name: str):\n",
    "#     global data;\n",
    "#     touched = []\n",
    "#     linked_path = []\n",
    "#     q = Queue()\n",
    "#     q.put(name)\n",
    "\n",
    "#     while not q.empty():\n",
    "#         current_name = q.get()\n",
    "#         if not current_name in touched and current_name in data:\n",
    "            \n"
   ]
  },
  {
   "cell_type": "code",
   "execution_count": null,
   "metadata": {},
   "outputs": [],
   "source": [
    "# def build_linked_path(name: str):\n",
    "#     global data;\n",
    "#     if name not in data:\n",
    "#         return {\n",
    "#             \"name\": name,\n",
    "#             \"type\": None,\n",
    "#             \"chained_events\": []\n",
    "#         }\n",
    "#     return {\n",
    "#         \"name\": name,\n",
    "#         \"type\": data[name][\"type\"],\n",
    "#         \"component_relations\": data[name][\"component_relations\"],\n",
    "#         \"query\": data[name].get(\"query\"),\n",
    "#         \"chained_events\": [build_linked_path(child[\"pluginId\"]) for child in data[name][\"component_relations\"].get(\"dependants\", [])]\n",
    "#     }\n",
    "\n",
    "# def get_recursive_name(linked_path_node: dict):\n",
    "#     return {\n",
    "#         \"name\": linked_path_node[\"name\"],\n",
    "#         \"chained_events\": get_recursive_name(linked_path_node[\"chained_events\"])\n",
    "#     }"
   ]
  },
  {
   "cell_type": "code",
   "execution_count": null,
   "metadata": {},
   "outputs": [],
   "source": [
    "# # get first key in data\n",
    "# first_key = list(data.keys())[0]\n",
    "# first_key"
   ]
  },
  {
   "cell_type": "code",
   "execution_count": null,
   "metadata": {},
   "outputs": [],
   "source": [
    "# linked_path = build_linked_path(first_key)\n",
    "# names = get_recursive_name(linked_path)"
   ]
  },
  {
   "cell_type": "code",
   "execution_count": null,
   "metadata": {},
   "outputs": [],
   "source": []
  }
 ],
 "metadata": {
  "kernelspec": {
   "display_name": "Python 3",
   "language": "python",
   "name": "python3"
  },
  "language_info": {
   "codemirror_mode": {
    "name": "ipython",
    "version": 3
   },
   "file_extension": ".py",
   "mimetype": "text/x-python",
   "name": "python",
   "nbconvert_exporter": "python",
   "pygments_lexer": "ipython3",
   "version": "3.11.3"
  },
  "orig_nbformat": 4
 },
 "nbformat": 4,
 "nbformat_minor": 2
}
