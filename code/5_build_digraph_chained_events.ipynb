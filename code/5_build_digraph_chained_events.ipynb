{
 "cells": [
  {
   "cell_type": "code",
   "execution_count": null,
   "metadata": {},
   "outputs": [],
   "source": [
    "import json\n",
    "from queue import Queue"
   ]
  },
  {
   "cell_type": "code",
   "execution_count": null,
   "metadata": {},
   "outputs": [],
   "source": [
    "with open(\"intermediate_outputs/formatted_appState_w_dependencies.json\", \"r\") as f:\n",
    "    data = json.load(f)"
   ]
  },
  {
   "cell_type": "code",
   "execution_count": null,
   "metadata": {},
   "outputs": [],
   "source": [
    "def build_linked_path(name: str):\n",
    "    visited_linked_path = []; # to prevent infinite recursion\n",
    "    def helper(_name: str):\n",
    "        global data;\n",
    "        \n",
    "        # eliminate widgets that have no dependants\n",
    "        if _name not in data or (\n",
    "            _name != name\n",
    "            and \"Widget\" in data[_name][\"subtype\"] \n",
    "            and len(data[_name][\"component_relations\"].get(\"dependants\", [])) == 0\n",
    "        ):\n",
    "            return None\n",
    "        \n",
    "        if _name in visited_linked_path:\n",
    "            return {\n",
    "                \"name\": _name,\n",
    "                \"type\": \"RECURSIVE\",\n",
    "                \"chained_events\": []\n",
    "            }\n",
    "        \n",
    "        visited_linked_path.append(_name)\n",
    "\n",
    "        # truncate manual triggers\n",
    "        if _name != name and (\n",
    "            any(subtype in data[_name][\"subtype\"] for subtype in [\"Button\", \"Select\"])\n",
    "            or (\n",
    "                data[_name][\"type\"] == \"datasource\"\n",
    "                and any(action in _name for action in [\"create\", \"update\", \"delete\", \"add\", \"remove\"])\n",
    "            ) \n",
    "        ):\n",
    "            return {\n",
    "                \"name\": _name,\n",
    "                \"type\": data[_name][\"type\"],\n",
    "                \"chained_events\": []\n",
    "            }\n",
    "\n",
    "        return {\n",
    "            \"name\": _name,\n",
    "            \"type\": data[_name][\"type\"],\n",
    "            \"component_relations\": data[_name][\"component_relations\"],\n",
    "            \"query\": data[_name].get(\"query\"),\n",
    "            \"chained_events\": [\n",
    "                event \n",
    "                for event \n",
    "                in [\n",
    "                    helper(child[\"pluginId\"]) \n",
    "                    for child \n",
    "                    in data[_name][\"component_relations\"].get(\"dependants\", [])\n",
    "                ]\n",
    "                if event is not None\n",
    "            ]\n",
    "        }\n",
    "    return helper(name)\n",
    "\n",
    "def get_recursive_name(linked_path_node: dict):\n",
    "    visited_recursive_name = []; # to prevent infinite recursion\n",
    "    def helper(_linked_path_node: dict):\n",
    "        if _linked_path_node[\"name\"] in visited_recursive_name:\n",
    "            return {\n",
    "                \"name\": _linked_path_node[\"name\"],\n",
    "                \"chained_events\": []\n",
    "            }\n",
    "        visited_recursive_name.append(_linked_path_node[\"name\"])\n",
    "        return {\n",
    "            \"name\": _linked_path_node[\"name\"],\n",
    "            \"chained_events\": [get_recursive_name(event) for event in _linked_path_node[\"chained_events\"]]\n",
    "        }\n",
    "    return helper(linked_path_node)\n",
    "\n",
    "def get_names_flat_list(names: dict):\n",
    "    flat_list = []\n",
    "    def helper(_names: dict):\n",
    "        flat_list.append(_names[\"name\"])\n",
    "        for event in _names[\"chained_events\"]:\n",
    "            helper(event)\n",
    "    helper(names)\n",
    "    return list(set(flat_list))"
   ]
  },
  {
   "cell_type": "code",
   "execution_count": null,
   "metadata": {},
   "outputs": [],
   "source": [
    "# get first key in data\n",
    "first_key = list(data.keys())[3]\n",
    "first_key"
   ]
  },
  {
   "cell_type": "code",
   "execution_count": null,
   "metadata": {},
   "outputs": [],
   "source": [
    "[\n",
    "    key \n",
    "    for key \n",
    "    in data.keys() \n",
    "    if data[key][\"type\"] in [\"datasource\", \"function\"] \n",
    "        or any(\n",
    "            subtype in data[key][\"subtype\"] \n",
    "            for subtype \n",
    "            in [\"Button\", \"Input\", \"Select\"]\n",
    "        )\n",
    "]"
   ]
  },
  {
   "cell_type": "code",
   "execution_count": null,
   "metadata": {},
   "outputs": [],
   "source": [
    "linked_paths = [\n",
    "    build_linked_path(key) \n",
    "    for key \n",
    "    in data.keys() \n",
    "    if data[key][\"type\"] in [\"datasource\", \"function\"] \n",
    "        or any(\n",
    "            subtype in data[key][\"subtype\"] \n",
    "            for subtype \n",
    "            in [\"Button\", \"Input\", \"Select\"]\n",
    "        )\n",
    "]\n",
    "print(\"selectServiceLocation\" in linked_paths)\n",
    "names_linked_lists = [get_recursive_name(linked_path) for linked_path in linked_paths]\n",
    "names_flat_lists = [get_names_flat_list(linked_path) for linked_path in linked_paths]\n",
    "names_flat_lists"
   ]
  },
  {
   "cell_type": "markdown",
   "metadata": {},
   "source": [
    "# generate dot file"
   ]
  },
  {
   "cell_type": "code",
   "execution_count": null,
   "metadata": {},
   "outputs": [],
   "source": [
    "def get_list_of_links(linked_path: dict):\n",
    "    links = []\n",
    "    def helper(_linked_path: dict):\n",
    "        for event in _linked_path[\"chained_events\"]:\n",
    "            links.append({\n",
    "                \"source\": _linked_path[\"name\"],\n",
    "                \"target\": event[\"name\"]\n",
    "            })\n",
    "            helper(event)\n",
    "    helper(linked_path)\n",
    "    return sorted(links, key=lambda link: link[\"source\"])\n",
    "\n",
    "events_lists = [{\"index\": index, \"title\": lp.get(\"name\"), \"links\": get_list_of_links(lp)} for [index, lp] in enumerate(linked_paths)]\n",
    "events_lists = [list for list in events_lists if len(list.get(\"links\")) > 0]\n",
    "events_lists"
   ]
  },
  {
   "cell_type": "code",
   "execution_count": null,
   "metadata": {},
   "outputs": [],
   "source": [
    "def build_digraph(title: str, events_lists: list[dict]):\n",
    "    nodes = {}\n",
    "    for [index, name] in enumerate(list(set([name for el in events_lists for name in get_names_flat_list(linked_paths[el[\"index\"]])]))):\n",
    "        nodes[name] = index\n",
    "\n",
    "    def build_subgraph(label: str, links: list[str], color: str = \"black\"):\n",
    "        return f\"\"\"\n",
    "        subgraph cluster_{label} {{\n",
    "        \\tstyle=\"rounded\";\n",
    "        \\tlabel=\"{label}\";\n",
    "        \\tcolor=\"{color}\";\n",
    "        \\tpenwidth=3;\\n\"\"\" + \\\n",
    "        \"\\n\".join([\n",
    "            f\"\\t\\t{nodes.get(link['source'])} -> {nodes.get(link['target'])} [ color=\\\"{color}\\\", penwidth=3 ];\" \n",
    "            for link \n",
    "            in links\n",
    "        ]) + \\\n",
    "        \"\\n\\t}\"\n",
    "\n",
    "\n",
    "    dot = f\"\"\"digraph {title} {{\n",
    "        rankdir=LR;\n",
    "        node [shape=record, style=filled];\n",
    "        edge [color=black]; \n",
    "    \"\"\"\n",
    "\n",
    "    for [label, index] in nodes.items():\n",
    "        fillcolor = \"gray90\";\n",
    "        color = \"black\";\n",
    "        _type = None\n",
    "        _subtype = None\n",
    "        if data.get(label):\n",
    "            _type = data.get(label).get(\"type\")\n",
    "            _subtype = data.get(label).get(\"subtype\")\n",
    "            if _type == \"datasource\":\n",
    "                fillcolor = \"#BBD686\"\n",
    "                if any(action in label for action in [\"create\", \"update\", \"delete\", \"add\", \"remove\"]):\n",
    "                    fillcolor = \"red4\"\n",
    "                    color = \"white\"\n",
    "            if _type == \"function\":\n",
    "                fillcolor = \"cornflowerblue\"\n",
    "                color = \"white\"\n",
    "            elif any(subtype in _subtype for subtype in [\"Button\", \"Select\"]):\n",
    "                fillcolor = \"red4\"\n",
    "                color = \"white\"\n",
    "            elif \"Table\" in _subtype:\n",
    "                fillcolor = \"darkgreen\"\n",
    "                color = \"white\"\n",
    "            elif \"Input\" in _subtype:\n",
    "                fillcolor = \"lightpink\"\n",
    "            elif any(subtype in _subtype for subtype in [\"Container\", \"Icon\", \"Text\"]):\n",
    "                fillcolor = \"white\"\n",
    "        if label == title:\n",
    "            fillcolor = \"black\";\n",
    "            color = \"white\";\n",
    "        \n",
    "        dot += f'\\t{index} [label=\"{{ {label}|{{ {_type}|{_subtype} }} }}\" fillcolor=\"{fillcolor}\" fontcolor=\"{color}\"];\\n'\n",
    "\n",
    "    for events_list in events_lists:\n",
    "        dot += build_subgraph(events_list.get(\"title\"), events_list.get(\"links\"))\n",
    "\n",
    "    dot += \"}\"\n",
    "    folder_path = f\"outputs/traversals\"\n",
    "    if len(nodes.keys()) > 20:\n",
    "        folder_path = f\"outputs/problematic_traversals\"\n",
    "    with open(f\"{folder_path}/{title}.dot\", \"w\") as f:\n",
    "        f.write(dot)"
   ]
  },
  {
   "cell_type": "markdown",
   "metadata": {},
   "source": [
    "# Clean Output Folders"
   ]
  },
  {
   "cell_type": "code",
   "execution_count": null,
   "metadata": {},
   "outputs": [],
   "source": [
    "import shutil\n",
    "import os\n",
    "try:\n",
    "    for path in [\"traversals\", \"problematic_traversals\"]:\n",
    "        if os.path.exists(f\"outputs/{path}\"):\n",
    "            shutil.rmtree(f\"outputs/{path}\")\n",
    "        os.mkdir(f\"outputs/{path}\")\n",
    "    print(\"wiped folders\")\n",
    "except OSError as e:\n",
    "    print(f\"Error: {e}\")"
   ]
  },
  {
   "cell_type": "code",
   "execution_count": null,
   "metadata": {},
   "outputs": [],
   "source": [
    "# build_digraph(\"full_graph\", events_lists)"
   ]
  },
  {
   "cell_type": "code",
   "execution_count": null,
   "metadata": {},
   "outputs": [],
   "source": [
    "for events_list in events_lists:\n",
    "    build_digraph(events_list.get(\"title\"), [events_list])"
   ]
  },
  {
   "cell_type": "code",
   "execution_count": null,
   "metadata": {},
   "outputs": [],
   "source": []
  },
  {
   "cell_type": "code",
   "execution_count": null,
   "metadata": {},
   "outputs": [],
   "source": []
  }
 ],
 "metadata": {
  "kernelspec": {
   "display_name": "Python 3",
   "language": "python",
   "name": "python3"
  },
  "language_info": {
   "codemirror_mode": {
    "name": "ipython",
    "version": 3
   },
   "file_extension": ".py",
   "mimetype": "text/x-python",
   "name": "python",
   "nbconvert_exporter": "python",
   "pygments_lexer": "ipython3",
   "version": "3.11.3"
  },
  "orig_nbformat": 4
 },
 "nbformat": 4,
 "nbformat_minor": 2
}
