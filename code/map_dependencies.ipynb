{
 "cells": [
  {
   "cell_type": "code",
   "execution_count": null,
   "metadata": {},
   "outputs": [],
   "source": [
    "import json\n",
    "import pandas as pd\n",
    "import re"
   ]
  },
  {
   "cell_type": "markdown",
   "metadata": {},
   "source": [
    "### pull data"
   ]
  },
  {
   "cell_type": "code",
   "execution_count": null,
   "metadata": {},
   "outputs": [],
   "source": [
    "data = {}\n",
    "with open('intermediate_outputs/raw_formatted_appState.json', 'r') as f:\n",
    "    data = json.load(f)"
   ]
  },
  {
   "cell_type": "markdown",
   "metadata": {},
   "source": [
    "### a quick_search test"
   ]
  },
  {
   "cell_type": "code",
   "execution_count": null,
   "metadata": {},
   "outputs": [],
   "source": [
    "quick_search = {\n",
    "    key: {\n",
    "        \"template_string\": str(value.get(\"template\")),\n",
    "        \"type\": value[\"type\"]\n",
    "    }\n",
    "    for key, value in data.items()\n",
    "    if str(value.get(\"template\")).strip() != \"\"\n",
    "}"
   ]
  },
  {
   "cell_type": "code",
   "execution_count": null,
   "metadata": {},
   "outputs": [],
   "source": [
    "query = \"distance_to_dealerships\"\n",
    "matches = [[ value['type'], key] for key, value in quick_search.items() if query in str(value['template_string'])]\n",
    "df = pd.DataFrame(matches, columns=['name', 'type'])\n",
    "df\n"
   ]
  },
  {
   "cell_type": "markdown",
   "metadata": {},
   "source": [
    "### define functions"
   ]
  },
  {
   "cell_type": "code",
   "execution_count": null,
   "metadata": {},
   "outputs": [],
   "source": [
    "def list_to_dict(lst: list):\n",
    "    _dict = {}\n",
    "    for index, item in enumerate(lst[::2]):\n",
    "        _i = index * 2\n",
    "        _value = lst[_i+1];\n",
    "        if type(_value) == list:\n",
    "            _value = list_to_dict(_value[1])\n",
    "        _dict[item] = _value\n",
    "    return _dict"
   ]
  },
  {
   "cell_type": "code",
   "execution_count": null,
   "metadata": {},
   "outputs": [],
   "source": [
    "def get_dependency_snippets(s: str):\n",
    "    code_pattern = r\"\\{\\{([^{}]*)\\}\\}\"\n",
    "    return re.findall(code_pattern, s)\n",
    "\n",
    "global g_trigger_regex\n",
    "g_trigger_regex = r\"[a-zA-Z_0-9]+\\.trigger\"\n",
    "def get_trigger_snippets(s: str):\n",
    "    return re.findall(g_trigger_regex, s)"
   ]
  },
  {
   "cell_type": "code",
   "execution_count": null,
   "metadata": {},
   "outputs": [],
   "source": [
    "def get_related_components(component):\n",
    "    events = []\n",
    "    dependencies = []\n",
    "    triggers = []\n",
    "    try:\n",
    "        events_list = [lst[1] for lst in component[\"template\"][\"events\"][1]]\n",
    "        for event in events_list:\n",
    "            events.append(list_to_dict(event))\n",
    "    except:\n",
    "        pass\n",
    "\n",
    "    try:\n",
    "        dependencies = get_dependency_snippets(str(component[\"template\"]))\n",
    "    except:\n",
    "        pass\n",
    "\n",
    "    try:\n",
    "        triggers = get_trigger_snippets(str(component[\"template\"]))\n",
    "    except:\n",
    "        pass\n",
    "\n",
    "    return {\n",
    "        \"dependency_code_snippets\": dependencies,\n",
    "        \"events\": events,\n",
    "        \"trigger_code_snippets\": triggers\n",
    "    }"
   ]
  },
  {
   "cell_type": "markdown",
   "metadata": {},
   "source": [
    "### get dependencies for each component"
   ]
  },
  {
   "cell_type": "code",
   "execution_count": null,
   "metadata": {},
   "outputs": [],
   "source": [
    "for key in data.keys():\n",
    "    data[key][\"component_relations\"] = get_related_components(data[key])"
   ]
  },
  {
   "cell_type": "code",
   "execution_count": null,
   "metadata": {},
   "outputs": [],
   "source": [
    "with open(\"debug_files/debug_raw_component_relations.json\", \"w\") as f:\n",
    "    json.dump({k: v.get('component_relations') for k,v in data.items()}, f, indent=2 * \" \")"
   ]
  },
  {
   "cell_type": "markdown",
   "metadata": {},
   "source": [
    "### map components to the dependencies of other components"
   ]
  },
  {
   "cell_type": "code",
   "execution_count": null,
   "metadata": {},
   "outputs": [],
   "source": [
    "def filter_triggers_from_code_snippets(snippets: list[str]):\n",
    "    # replace all instances of regex in string with empty string\n",
    "    return [re.sub(g_trigger_regex, \"\", snippet) for snippet in snippets]"
   ]
  },
  {
   "cell_type": "code",
   "execution_count": null,
   "metadata": {},
   "outputs": [],
   "source": [
    "# test filter_triggers_from_code_snippets\n",
    "test = [\"test.trigger('test')\", \"test2.trigger('test_2')\", \"test3.trigger('test_3') test3.trigger('test_3') test4.trigger('test_4')\"]\n",
    "result = filter_triggers_from_code_snippets(test)\n",
    "print(result)\n",
    "assert result == [\"('test')\", \"('test_2')\", \"('test_3') ('test_3') ('test_4')\"]"
   ]
  },
  {
   "cell_type": "code",
   "execution_count": null,
   "metadata": {},
   "outputs": [],
   "source": [
    "code_snippets = {\n",
    "    key: \" | \".join(filter_triggers_from_code_snippets(value[\"component_relations\"][\"dependency_code_snippets\"]))\n",
    "    for key, value \n",
    "    in data.items() \n",
    "    if len(value[\"component_relations\"][\"dependency_code_snippets\"]) > 0\n",
    "}\n",
    "\n",
    "triggers = {\n",
    "    key: {\n",
    "        trigger_key: {\n",
    "            \"event\": \"code_trigger\",\n",
    "            \"type\": data[trigger_key].get(\"type\"),\n",
    "            \"method\": \"trigger\",\n",
    "            \"pluginId\": trigger_key\n",
    "        }\n",
    "        for trigger_key\n",
    "        in set([\n",
    "            re.sub(\".trigger\", \"\", trigger_string)\n",
    "            for trigger_string\n",
    "            in value[\"component_relations\"][\"trigger_code_snippets\"]\n",
    "        ])\n",
    "    }\n",
    "    for key, value \n",
    "    in data.items() \n",
    "    if len(value[\"component_relations\"][\"trigger_code_snippets\"]) > 0\n",
    "}\n",
    "\n",
    "events = {\n",
    "    key: {\n",
    "        event[\"pluginId\"]: event\n",
    "        for event \n",
    "        in value[\"component_relations\"][\"events\"]\n",
    "    }\n",
    "    for key, value \n",
    "    in data.items() \n",
    "    if len(value[\"component_relations\"][\"events\"]) > 0\n",
    "}"
   ]
  },
  {
   "cell_type": "markdown",
   "metadata": {},
   "source": [
    "##### split events into triggers and non-triggers"
   ]
  },
  {
   "cell_type": "code",
   "execution_count": null,
   "metadata": {},
   "outputs": [],
   "source": [
    "non_trigger_events = {}\n",
    "\n",
    "for key, value in events.items():\n",
    "    for event_key, event_value in value.items():\n",
    "        if event_value[\"method\"] == \"trigger\":\n",
    "            if not key in triggers:\n",
    "                triggers[key] = {}\n",
    "            triggers[key][event_key] = event_value\n",
    "        elif event_value[\"pluginId\"] != \"\":\n",
    "            if not key in non_trigger_events:\n",
    "                non_trigger_events[key] = {}\n",
    "            non_trigger_events[key][event_key] = event_value"
   ]
  },
  {
   "cell_type": "code",
   "execution_count": null,
   "metadata": {},
   "outputs": [],
   "source": [
    "with open(\"debug_files/debug_triggers.json\", 'w') as f:\n",
    "    json.dump(triggers, f, indent=2 * \" \")"
   ]
  },
  {
   "cell_type": "markdown",
   "metadata": {},
   "source": [
    "##### get dependency list -- search code_snippets for component-name + '.'"
   ]
  },
  {
   "cell_type": "code",
   "execution_count": null,
   "metadata": {},
   "outputs": [],
   "source": [
    "dependencies = {key: [] for key in code_snippets.keys()}\n",
    "for parent, snippets in code_snippets.items():\n",
    "    for dependent in code_snippets.keys():\n",
    "        if f\"{dependent}.\" in snippets:\n",
    "            dependencies[parent].append(dependent)\n",
    "\n",
    "for key, value in dependencies.items():\n",
    "    data[key][\"component_relations\"][\"dependencies\"] = value"
   ]
  },
  {
   "cell_type": "markdown",
   "metadata": {},
   "source": [
    "### precompute reverse relations : \n",
    "#### grab a list of all components that depend on a given component\n",
    "- e.g this component updates this list of components"
   ]
  },
  {
   "cell_type": "code",
   "execution_count": null,
   "metadata": {},
   "outputs": [],
   "source": [
    "# reverse dependencies map into dependants map\n",
    "for parent in dependencies.keys():\n",
    "    if not \"component_relations\" in data[parent]:\n",
    "        data[parent][\"component_relations\"] = {}\n",
    "    if not \"dependants\" in data[parent][\"component_relations\"]:\n",
    "        data[parent][\"component_relations\"][\"dependants\"] = []\n",
    "    for dependant, dependency_components in dependencies.items():\n",
    "        # if parent is a dependency of dependant\n",
    "        if parent in dependency_components:\n",
    "            data[parent][\"component_relations\"][\"dependants\"].append({\n",
    "                \"event\": \"on_value_change\",\n",
    "                \"type\": data[dependant].get(\"type\"),\n",
    "                \"method\": \"update\",\n",
    "                \"pluginId\": dependant,\n",
    "                \"triggered_by\": parent,\n",
    "                \"derived_event\": True\n",
    "            })"
   ]
  },
  {
   "cell_type": "code",
   "execution_count": null,
   "metadata": {},
   "outputs": [],
   "source": [
    "def add_events_to_dependants_list(events_map: dict):\n",
    "    global data;\n",
    "    for parent, events in events_map.items():\n",
    "        if not \"component_relations\" in data[parent]:\n",
    "            data[parent][\"component_relations\"] = {}\n",
    "        if not \"dependants\" in data[parent][\"component_relations\"]:\n",
    "            data[parent][\"component_relations\"][\"dependants\"] = []\n",
    "        for event in events.values():\n",
    "            event[\"triggered_by\"] = parent\n",
    "            data[parent][\"component_relations\"][\"dependants\"].append(event)"
   ]
  },
  {
   "cell_type": "code",
   "execution_count": null,
   "metadata": {},
   "outputs": [],
   "source": [
    "add_events_to_dependants_list(triggers)\n",
    "add_events_to_dependants_list(non_trigger_events)"
   ]
  },
  {
   "cell_type": "code",
   "execution_count": null,
   "metadata": {},
   "outputs": [],
   "source": [
    "with open(\"debug_files/debug_dependencies.json\", \"w\") as f:\n",
    "    json.dump({k: v.get('component_relations') for k,v in data.items()}, f, indent=2 * \" \")"
   ]
  },
  {
   "cell_type": "markdown",
   "metadata": {},
   "source": [
    "#### intermediate output files"
   ]
  },
  {
   "cell_type": "code",
   "execution_count": null,
   "metadata": {},
   "outputs": [],
   "source": [
    "dependency_graph = {key: value[\"component_relations\"] for key, value in data.items()}\n",
    "with open(\"intermediate_outputs/dependency_graph.json\", \"w\") as f:\n",
    "    json.dump(dependency_graph, f, indent=2 * \" \")"
   ]
  },
  {
   "cell_type": "code",
   "execution_count": null,
   "metadata": {},
   "outputs": [],
   "source": [
    "with open(\"intermediate_outputs/formatted_appState_w_dependencies.json\", 'w') as f:\n",
    "    f.write(json.dumps(data, indent=2 * \" \"))"
   ]
  }
 ],
 "metadata": {
  "kernelspec": {
   "display_name": "Python 3",
   "language": "python",
   "name": "python3"
  },
  "language_info": {
   "codemirror_mode": {
    "name": "ipython",
    "version": 3
   },
   "file_extension": ".py",
   "mimetype": "text/x-python",
   "name": "python",
   "nbconvert_exporter": "python",
   "pygments_lexer": "ipython3",
   "version": "3.11.3"
  },
  "orig_nbformat": 4
 },
 "nbformat": 4,
 "nbformat_minor": 2
}
