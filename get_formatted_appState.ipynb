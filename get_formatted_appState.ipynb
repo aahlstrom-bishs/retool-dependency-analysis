{
 "cells": [
  {
   "cell_type": "code",
   "execution_count": null,
   "metadata": {},
   "outputs": [],
   "source": [
    "import json"
   ]
  },
  {
   "cell_type": "code",
   "execution_count": null,
   "metadata": {},
   "outputs": [],
   "source": [
    "data = {}\n",
    "with open(\"inputs/raw_data.json\", \"r\") as f:\n",
    "    data = json.load(f)\n",
    "\n",
    "appState = json.loads(data[\"page\"][\"data\"][\"appState\"])\n",
    "\n",
    "# with open(\"appState.json\", \"w\") as f:\n",
    "#     json.dump(appState, f, indent=2 * \" \")  # indent with 4 spaces"
   ]
  },
  {
   "cell_type": "code",
   "execution_count": null,
   "metadata": {},
   "outputs": [],
   "source": [
    "index = 0\n",
    "components = appState[1][4][4][1];\n",
    "names = []\n",
    "values = []\n",
    "value_ids = {}\n",
    "for item in components:\n",
    "    # print item if index is even\n",
    "    if index % 2 == 0:\n",
    "        names.append(item)\n",
    "    else:\n",
    "        value = {\n",
    "            \"names\": [],\n",
    "            \"values\": []\n",
    "        }\n",
    "        value_index = 0\n",
    "        for v in item[1][4][1:]:\n",
    "            if value_index % 2 == 0:\n",
    "                _name_index = value_index // 2\n",
    "                _name = value_ids.get(v)\n",
    "                _id = f\"^{_name_index + 3}\"\n",
    "                if not _name:\n",
    "                    if v[0] != '^':\n",
    "                        value_ids[_id] = v\n",
    "                    _name = v\n",
    "                value[\"names\"].append(_name)\n",
    "            else:\n",
    "                value[\"values\"].append(v)\n",
    "            value_index += 1\n",
    "        values.append(dict(zip(value[\"names\"], value[\"values\"])))\n",
    "    index += 1\n",
    "\n",
    "data = dict(zip(names, values))\n",
    "for [key, value] in data.items():\n",
    "    _template_data = {}\n",
    "    _index = 0;\n",
    "    _template_list = value[\"template\"][1];\n",
    "    for _item in _template_list[:-1]:\n",
    "        if _index % 2 == 0:\n",
    "            _value = _template_list[_index + 1] \n",
    "            if _value != '' and _value != None:\n",
    "                _template_data[_item] = _value\n",
    "        _index += 1\n",
    "    # print(key, ' : ', _template_data['names'], '\\n\\n')\n",
    "    # data[key][\"template\"] = dict(zip(_template_data[\"names\"], _template_data[\"values\"]));\n",
    "    data[key][\"template\"] = _template_data;\n",
    "    # data[key][\"template_string\"] = str(_template_data)"
   ]
  },
  {
   "cell_type": "code",
   "execution_count": null,
   "metadata": {},
   "outputs": [],
   "source": [
    "with open(\"intermediate_outputs/raw_formatted_appState.json\", 'w') as f:\n",
    "    json.dump(data, f, indent=2 * ' ')"
   ]
  }
 ],
 "metadata": {
  "language_info": {
   "name": "python"
  },
  "orig_nbformat": 4
 },
 "nbformat": 4,
 "nbformat_minor": 2
}
