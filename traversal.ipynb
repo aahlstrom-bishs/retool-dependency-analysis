{
 "cells": [
  {
   "cell_type": "code",
   "execution_count": 1,
   "metadata": {},
   "outputs": [],
   "source": [
    "import json\n",
    "from queue import Queue"
   ]
  },
  {
   "cell_type": "code",
   "execution_count": 2,
   "metadata": {},
   "outputs": [],
   "source": [
    "with open(\"intermediate_outputs/formatted_appState_w_dependencies.json\", \"r\") as f:\n",
    "    data = json.load(f)"
   ]
  },
  {
   "cell_type": "code",
   "execution_count": 3,
   "metadata": {},
   "outputs": [],
   "source": [
    "# maximum recursion depth exceeded.\n",
    "# -- probably because of an infinite loop\n",
    "\n",
    "def build_linked_path(name: str):\n",
    "    global data;\n",
    "    touched = []\n",
    "    linked_path = []\n",
    "    q = Queue()\n",
    "    q.put(name)\n",
    "\n",
    "    while not q.empty():\n",
    "        current_name = q.get()\n",
    "        if not current_name in touched and current_name in data:\n",
    "            \n"
   ]
  },
  {
   "cell_type": "code",
   "execution_count": null,
   "metadata": {},
   "outputs": [],
   "source": [
    "def build_linked_path(name: str):\n",
    "    global data;\n",
    "    if name not in data:\n",
    "        return {\n",
    "            \"name\": name,\n",
    "            \"type\": None,\n",
    "            \"chained_events\": []\n",
    "        }\n",
    "    return {\n",
    "        \"name\": name,\n",
    "        \"type\": data[name][\"type\"],\n",
    "        \"component_relations\": data[name][\"component_relations\"],\n",
    "        \"query\": data[name].get(\"query\"),\n",
    "        \"chained_events\": [build_linked_path(child[\"pluginId\"]) for child in data[name][\"component_relations\"].get(\"dependants\", [])]\n",
    "    }\n",
    "\n",
    "def get_recursive_name(linked_path_node: dict):\n",
    "    return {\n",
    "        \"name\": linked_path_node[\"name\"],\n",
    "        \"chained_events\": get_recursive_name(linked_path_node[\"chained_events\"])\n",
    "    }"
   ]
  },
  {
   "cell_type": "code",
   "execution_count": 4,
   "metadata": {},
   "outputs": [
    {
     "data": {
      "text/plain": [
       "'todays_calls'"
      ]
     },
     "execution_count": 4,
     "metadata": {},
     "output_type": "execute_result"
    }
   ],
   "source": [
    "# get first key in data\n",
    "first_key = list(data.keys())[0]\n",
    "first_key"
   ]
  },
  {
   "cell_type": "code",
   "execution_count": 5,
   "metadata": {},
   "outputs": [
    {
     "ename": "RecursionError",
     "evalue": "maximum recursion depth exceeded",
     "output_type": "error",
     "traceback": [
      "\u001b[0;31m---------------------------------------------------------------------------\u001b[0m",
      "\u001b[0;31mRecursionError\u001b[0m                            Traceback (most recent call last)",
      "Cell \u001b[0;32mIn[5], line 1\u001b[0m\n\u001b[0;32m----> 1\u001b[0m linked_path \u001b[39m=\u001b[39m build_linked_path(first_key)\n\u001b[1;32m      2\u001b[0m names \u001b[39m=\u001b[39m get_recursive_name(linked_path)\n",
      "Cell \u001b[0;32mIn[3], line 15\u001b[0m, in \u001b[0;36mbuild_linked_path\u001b[0;34m(name)\u001b[0m\n\u001b[1;32m      3\u001b[0m \u001b[39mif\u001b[39;00m name \u001b[39mnot\u001b[39;00m \u001b[39min\u001b[39;00m data:\n\u001b[1;32m      4\u001b[0m     \u001b[39mreturn\u001b[39;00m {\n\u001b[1;32m      5\u001b[0m         \u001b[39m\"\u001b[39m\u001b[39mname\u001b[39m\u001b[39m\"\u001b[39m: name,\n\u001b[1;32m      6\u001b[0m         \u001b[39m\"\u001b[39m\u001b[39mtype\u001b[39m\u001b[39m\"\u001b[39m: \u001b[39mNone\u001b[39;00m,\n\u001b[1;32m      7\u001b[0m         \u001b[39m\"\u001b[39m\u001b[39mchained_events\u001b[39m\u001b[39m\"\u001b[39m: []\n\u001b[1;32m      8\u001b[0m     }\n\u001b[1;32m     10\u001b[0m \u001b[39mreturn\u001b[39;00m {\n\u001b[1;32m     11\u001b[0m     \u001b[39m\"\u001b[39m\u001b[39mname\u001b[39m\u001b[39m\"\u001b[39m: name,\n\u001b[1;32m     12\u001b[0m     \u001b[39m\"\u001b[39m\u001b[39mtype\u001b[39m\u001b[39m\"\u001b[39m: data[name][\u001b[39m\"\u001b[39m\u001b[39mtype\u001b[39m\u001b[39m\"\u001b[39m],\n\u001b[1;32m     13\u001b[0m     \u001b[39m\"\u001b[39m\u001b[39mcomponent_relations\u001b[39m\u001b[39m\"\u001b[39m: data[name][\u001b[39m\"\u001b[39m\u001b[39mcomponent_relations\u001b[39m\u001b[39m\"\u001b[39m],\n\u001b[1;32m     14\u001b[0m     \u001b[39m\"\u001b[39m\u001b[39mquery\u001b[39m\u001b[39m\"\u001b[39m: data[name]\u001b[39m.\u001b[39mget(\u001b[39m\"\u001b[39m\u001b[39mquery\u001b[39m\u001b[39m\"\u001b[39m),\n\u001b[0;32m---> 15\u001b[0m     \u001b[39m\"\u001b[39m\u001b[39mchained_events\u001b[39m\u001b[39m\"\u001b[39m: [build_linked_path(child[\u001b[39m\"\u001b[39;49m\u001b[39mpluginId\u001b[39;49m\u001b[39m\"\u001b[39;49m]) \u001b[39mfor\u001b[39;49;00m child \u001b[39min\u001b[39;49;00m data[name][\u001b[39m\"\u001b[39;49m\u001b[39mcomponent_relations\u001b[39;49m\u001b[39m\"\u001b[39;49m]\u001b[39m.\u001b[39;49mget(\u001b[39m\"\u001b[39;49m\u001b[39mdependants\u001b[39;49m\u001b[39m\"\u001b[39;49m, [])]\n\u001b[1;32m     16\u001b[0m }\n",
      "Cell \u001b[0;32mIn[3], line 15\u001b[0m, in \u001b[0;36m<listcomp>\u001b[0;34m(.0)\u001b[0m\n\u001b[1;32m      3\u001b[0m \u001b[39mif\u001b[39;00m name \u001b[39mnot\u001b[39;00m \u001b[39min\u001b[39;00m data:\n\u001b[1;32m      4\u001b[0m     \u001b[39mreturn\u001b[39;00m {\n\u001b[1;32m      5\u001b[0m         \u001b[39m\"\u001b[39m\u001b[39mname\u001b[39m\u001b[39m\"\u001b[39m: name,\n\u001b[1;32m      6\u001b[0m         \u001b[39m\"\u001b[39m\u001b[39mtype\u001b[39m\u001b[39m\"\u001b[39m: \u001b[39mNone\u001b[39;00m,\n\u001b[1;32m      7\u001b[0m         \u001b[39m\"\u001b[39m\u001b[39mchained_events\u001b[39m\u001b[39m\"\u001b[39m: []\n\u001b[1;32m      8\u001b[0m     }\n\u001b[1;32m     10\u001b[0m \u001b[39mreturn\u001b[39;00m {\n\u001b[1;32m     11\u001b[0m     \u001b[39m\"\u001b[39m\u001b[39mname\u001b[39m\u001b[39m\"\u001b[39m: name,\n\u001b[1;32m     12\u001b[0m     \u001b[39m\"\u001b[39m\u001b[39mtype\u001b[39m\u001b[39m\"\u001b[39m: data[name][\u001b[39m\"\u001b[39m\u001b[39mtype\u001b[39m\u001b[39m\"\u001b[39m],\n\u001b[1;32m     13\u001b[0m     \u001b[39m\"\u001b[39m\u001b[39mcomponent_relations\u001b[39m\u001b[39m\"\u001b[39m: data[name][\u001b[39m\"\u001b[39m\u001b[39mcomponent_relations\u001b[39m\u001b[39m\"\u001b[39m],\n\u001b[1;32m     14\u001b[0m     \u001b[39m\"\u001b[39m\u001b[39mquery\u001b[39m\u001b[39m\"\u001b[39m: data[name]\u001b[39m.\u001b[39mget(\u001b[39m\"\u001b[39m\u001b[39mquery\u001b[39m\u001b[39m\"\u001b[39m),\n\u001b[0;32m---> 15\u001b[0m     \u001b[39m\"\u001b[39m\u001b[39mchained_events\u001b[39m\u001b[39m\"\u001b[39m: [build_linked_path(child[\u001b[39m\"\u001b[39;49m\u001b[39mpluginId\u001b[39;49m\u001b[39m\"\u001b[39;49m]) \u001b[39mfor\u001b[39;00m child \u001b[39min\u001b[39;00m data[name][\u001b[39m\"\u001b[39m\u001b[39mcomponent_relations\u001b[39m\u001b[39m\"\u001b[39m]\u001b[39m.\u001b[39mget(\u001b[39m\"\u001b[39m\u001b[39mdependants\u001b[39m\u001b[39m\"\u001b[39m, [])]\n\u001b[1;32m     16\u001b[0m }\n",
      "Cell \u001b[0;32mIn[3], line 15\u001b[0m, in \u001b[0;36mbuild_linked_path\u001b[0;34m(name)\u001b[0m\n\u001b[1;32m      3\u001b[0m \u001b[39mif\u001b[39;00m name \u001b[39mnot\u001b[39;00m \u001b[39min\u001b[39;00m data:\n\u001b[1;32m      4\u001b[0m     \u001b[39mreturn\u001b[39;00m {\n\u001b[1;32m      5\u001b[0m         \u001b[39m\"\u001b[39m\u001b[39mname\u001b[39m\u001b[39m\"\u001b[39m: name,\n\u001b[1;32m      6\u001b[0m         \u001b[39m\"\u001b[39m\u001b[39mtype\u001b[39m\u001b[39m\"\u001b[39m: \u001b[39mNone\u001b[39;00m,\n\u001b[1;32m      7\u001b[0m         \u001b[39m\"\u001b[39m\u001b[39mchained_events\u001b[39m\u001b[39m\"\u001b[39m: []\n\u001b[1;32m      8\u001b[0m     }\n\u001b[1;32m     10\u001b[0m \u001b[39mreturn\u001b[39;00m {\n\u001b[1;32m     11\u001b[0m     \u001b[39m\"\u001b[39m\u001b[39mname\u001b[39m\u001b[39m\"\u001b[39m: name,\n\u001b[1;32m     12\u001b[0m     \u001b[39m\"\u001b[39m\u001b[39mtype\u001b[39m\u001b[39m\"\u001b[39m: data[name][\u001b[39m\"\u001b[39m\u001b[39mtype\u001b[39m\u001b[39m\"\u001b[39m],\n\u001b[1;32m     13\u001b[0m     \u001b[39m\"\u001b[39m\u001b[39mcomponent_relations\u001b[39m\u001b[39m\"\u001b[39m: data[name][\u001b[39m\"\u001b[39m\u001b[39mcomponent_relations\u001b[39m\u001b[39m\"\u001b[39m],\n\u001b[1;32m     14\u001b[0m     \u001b[39m\"\u001b[39m\u001b[39mquery\u001b[39m\u001b[39m\"\u001b[39m: data[name]\u001b[39m.\u001b[39mget(\u001b[39m\"\u001b[39m\u001b[39mquery\u001b[39m\u001b[39m\"\u001b[39m),\n\u001b[0;32m---> 15\u001b[0m     \u001b[39m\"\u001b[39m\u001b[39mchained_events\u001b[39m\u001b[39m\"\u001b[39m: [build_linked_path(child[\u001b[39m\"\u001b[39;49m\u001b[39mpluginId\u001b[39;49m\u001b[39m\"\u001b[39;49m]) \u001b[39mfor\u001b[39;49;00m child \u001b[39min\u001b[39;49;00m data[name][\u001b[39m\"\u001b[39;49m\u001b[39mcomponent_relations\u001b[39;49m\u001b[39m\"\u001b[39;49m]\u001b[39m.\u001b[39;49mget(\u001b[39m\"\u001b[39;49m\u001b[39mdependants\u001b[39;49m\u001b[39m\"\u001b[39;49m, [])]\n\u001b[1;32m     16\u001b[0m }\n",
      "Cell \u001b[0;32mIn[3], line 15\u001b[0m, in \u001b[0;36m<listcomp>\u001b[0;34m(.0)\u001b[0m\n\u001b[1;32m      3\u001b[0m \u001b[39mif\u001b[39;00m name \u001b[39mnot\u001b[39;00m \u001b[39min\u001b[39;00m data:\n\u001b[1;32m      4\u001b[0m     \u001b[39mreturn\u001b[39;00m {\n\u001b[1;32m      5\u001b[0m         \u001b[39m\"\u001b[39m\u001b[39mname\u001b[39m\u001b[39m\"\u001b[39m: name,\n\u001b[1;32m      6\u001b[0m         \u001b[39m\"\u001b[39m\u001b[39mtype\u001b[39m\u001b[39m\"\u001b[39m: \u001b[39mNone\u001b[39;00m,\n\u001b[1;32m      7\u001b[0m         \u001b[39m\"\u001b[39m\u001b[39mchained_events\u001b[39m\u001b[39m\"\u001b[39m: []\n\u001b[1;32m      8\u001b[0m     }\n\u001b[1;32m     10\u001b[0m \u001b[39mreturn\u001b[39;00m {\n\u001b[1;32m     11\u001b[0m     \u001b[39m\"\u001b[39m\u001b[39mname\u001b[39m\u001b[39m\"\u001b[39m: name,\n\u001b[1;32m     12\u001b[0m     \u001b[39m\"\u001b[39m\u001b[39mtype\u001b[39m\u001b[39m\"\u001b[39m: data[name][\u001b[39m\"\u001b[39m\u001b[39mtype\u001b[39m\u001b[39m\"\u001b[39m],\n\u001b[1;32m     13\u001b[0m     \u001b[39m\"\u001b[39m\u001b[39mcomponent_relations\u001b[39m\u001b[39m\"\u001b[39m: data[name][\u001b[39m\"\u001b[39m\u001b[39mcomponent_relations\u001b[39m\u001b[39m\"\u001b[39m],\n\u001b[1;32m     14\u001b[0m     \u001b[39m\"\u001b[39m\u001b[39mquery\u001b[39m\u001b[39m\"\u001b[39m: data[name]\u001b[39m.\u001b[39mget(\u001b[39m\"\u001b[39m\u001b[39mquery\u001b[39m\u001b[39m\"\u001b[39m),\n\u001b[0;32m---> 15\u001b[0m     \u001b[39m\"\u001b[39m\u001b[39mchained_events\u001b[39m\u001b[39m\"\u001b[39m: [build_linked_path(child[\u001b[39m\"\u001b[39;49m\u001b[39mpluginId\u001b[39;49m\u001b[39m\"\u001b[39;49m]) \u001b[39mfor\u001b[39;00m child \u001b[39min\u001b[39;00m data[name][\u001b[39m\"\u001b[39m\u001b[39mcomponent_relations\u001b[39m\u001b[39m\"\u001b[39m]\u001b[39m.\u001b[39mget(\u001b[39m\"\u001b[39m\u001b[39mdependants\u001b[39m\u001b[39m\"\u001b[39m, [])]\n\u001b[1;32m     16\u001b[0m }\n",
      "    \u001b[0;31m[... skipping similar frames: <listcomp> at line 15 (1484 times), build_linked_path at line 15 (1484 times)]\u001b[0m\n",
      "Cell \u001b[0;32mIn[3], line 15\u001b[0m, in \u001b[0;36mbuild_linked_path\u001b[0;34m(name)\u001b[0m\n\u001b[1;32m      3\u001b[0m \u001b[39mif\u001b[39;00m name \u001b[39mnot\u001b[39;00m \u001b[39min\u001b[39;00m data:\n\u001b[1;32m      4\u001b[0m     \u001b[39mreturn\u001b[39;00m {\n\u001b[1;32m      5\u001b[0m         \u001b[39m\"\u001b[39m\u001b[39mname\u001b[39m\u001b[39m\"\u001b[39m: name,\n\u001b[1;32m      6\u001b[0m         \u001b[39m\"\u001b[39m\u001b[39mtype\u001b[39m\u001b[39m\"\u001b[39m: \u001b[39mNone\u001b[39;00m,\n\u001b[1;32m      7\u001b[0m         \u001b[39m\"\u001b[39m\u001b[39mchained_events\u001b[39m\u001b[39m\"\u001b[39m: []\n\u001b[1;32m      8\u001b[0m     }\n\u001b[1;32m     10\u001b[0m \u001b[39mreturn\u001b[39;00m {\n\u001b[1;32m     11\u001b[0m     \u001b[39m\"\u001b[39m\u001b[39mname\u001b[39m\u001b[39m\"\u001b[39m: name,\n\u001b[1;32m     12\u001b[0m     \u001b[39m\"\u001b[39m\u001b[39mtype\u001b[39m\u001b[39m\"\u001b[39m: data[name][\u001b[39m\"\u001b[39m\u001b[39mtype\u001b[39m\u001b[39m\"\u001b[39m],\n\u001b[1;32m     13\u001b[0m     \u001b[39m\"\u001b[39m\u001b[39mcomponent_relations\u001b[39m\u001b[39m\"\u001b[39m: data[name][\u001b[39m\"\u001b[39m\u001b[39mcomponent_relations\u001b[39m\u001b[39m\"\u001b[39m],\n\u001b[1;32m     14\u001b[0m     \u001b[39m\"\u001b[39m\u001b[39mquery\u001b[39m\u001b[39m\"\u001b[39m: data[name]\u001b[39m.\u001b[39mget(\u001b[39m\"\u001b[39m\u001b[39mquery\u001b[39m\u001b[39m\"\u001b[39m),\n\u001b[0;32m---> 15\u001b[0m     \u001b[39m\"\u001b[39m\u001b[39mchained_events\u001b[39m\u001b[39m\"\u001b[39m: [build_linked_path(child[\u001b[39m\"\u001b[39;49m\u001b[39mpluginId\u001b[39;49m\u001b[39m\"\u001b[39;49m]) \u001b[39mfor\u001b[39;49;00m child \u001b[39min\u001b[39;49;00m data[name][\u001b[39m\"\u001b[39;49m\u001b[39mcomponent_relations\u001b[39;49m\u001b[39m\"\u001b[39;49m]\u001b[39m.\u001b[39;49mget(\u001b[39m\"\u001b[39;49m\u001b[39mdependants\u001b[39;49m\u001b[39m\"\u001b[39;49m, [])]\n\u001b[1;32m     16\u001b[0m }\n",
      "Cell \u001b[0;32mIn[3], line 15\u001b[0m, in \u001b[0;36m<listcomp>\u001b[0;34m(.0)\u001b[0m\n\u001b[1;32m      3\u001b[0m \u001b[39mif\u001b[39;00m name \u001b[39mnot\u001b[39;00m \u001b[39min\u001b[39;00m data:\n\u001b[1;32m      4\u001b[0m     \u001b[39mreturn\u001b[39;00m {\n\u001b[1;32m      5\u001b[0m         \u001b[39m\"\u001b[39m\u001b[39mname\u001b[39m\u001b[39m\"\u001b[39m: name,\n\u001b[1;32m      6\u001b[0m         \u001b[39m\"\u001b[39m\u001b[39mtype\u001b[39m\u001b[39m\"\u001b[39m: \u001b[39mNone\u001b[39;00m,\n\u001b[1;32m      7\u001b[0m         \u001b[39m\"\u001b[39m\u001b[39mchained_events\u001b[39m\u001b[39m\"\u001b[39m: []\n\u001b[1;32m      8\u001b[0m     }\n\u001b[1;32m     10\u001b[0m \u001b[39mreturn\u001b[39;00m {\n\u001b[1;32m     11\u001b[0m     \u001b[39m\"\u001b[39m\u001b[39mname\u001b[39m\u001b[39m\"\u001b[39m: name,\n\u001b[1;32m     12\u001b[0m     \u001b[39m\"\u001b[39m\u001b[39mtype\u001b[39m\u001b[39m\"\u001b[39m: data[name][\u001b[39m\"\u001b[39m\u001b[39mtype\u001b[39m\u001b[39m\"\u001b[39m],\n\u001b[1;32m     13\u001b[0m     \u001b[39m\"\u001b[39m\u001b[39mcomponent_relations\u001b[39m\u001b[39m\"\u001b[39m: data[name][\u001b[39m\"\u001b[39m\u001b[39mcomponent_relations\u001b[39m\u001b[39m\"\u001b[39m],\n\u001b[1;32m     14\u001b[0m     \u001b[39m\"\u001b[39m\u001b[39mquery\u001b[39m\u001b[39m\"\u001b[39m: data[name]\u001b[39m.\u001b[39mget(\u001b[39m\"\u001b[39m\u001b[39mquery\u001b[39m\u001b[39m\"\u001b[39m),\n\u001b[0;32m---> 15\u001b[0m     \u001b[39m\"\u001b[39m\u001b[39mchained_events\u001b[39m\u001b[39m\"\u001b[39m: [build_linked_path(child[\u001b[39m\"\u001b[39;49m\u001b[39mpluginId\u001b[39;49m\u001b[39m\"\u001b[39;49m]) \u001b[39mfor\u001b[39;00m child \u001b[39min\u001b[39;00m data[name][\u001b[39m\"\u001b[39m\u001b[39mcomponent_relations\u001b[39m\u001b[39m\"\u001b[39m]\u001b[39m.\u001b[39mget(\u001b[39m\"\u001b[39m\u001b[39mdependants\u001b[39m\u001b[39m\"\u001b[39m, [])]\n\u001b[1;32m     16\u001b[0m }\n",
      "\u001b[0;31mRecursionError\u001b[0m: maximum recursion depth exceeded"
     ]
    }
   ],
   "source": [
    "linked_path = build_linked_path(first_key)\n",
    "names = get_recursive_name(linked_path)"
   ]
  },
  {
   "cell_type": "code",
   "execution_count": null,
   "metadata": {},
   "outputs": [],
   "source": []
  }
 ],
 "metadata": {
  "kernelspec": {
   "display_name": "Python 3",
   "language": "python",
   "name": "python3"
  },
  "language_info": {
   "codemirror_mode": {
    "name": "ipython",
    "version": 3
   },
   "file_extension": ".py",
   "mimetype": "text/x-python",
   "name": "python",
   "nbconvert_exporter": "python",
   "pygments_lexer": "ipython3",
   "version": "3.11.4"
  },
  "orig_nbformat": 4
 },
 "nbformat": 4,
 "nbformat_minor": 2
}
